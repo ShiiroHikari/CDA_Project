{
 "cells": [
  {
   "cell_type": "code",
   "execution_count": null,
   "id": "1bd52004-3016-4b75-b490-c679842330ba",
   "metadata": {},
   "outputs": [],
   "source": [
    "import numpy as np\n",
    "import matplotlib.pyplot as plt\n",
    "import random\n",
    "import torch\n",
    "import data_generation as gen"
   ]
  },
  {
   "cell_type": "markdown",
   "id": "67365a3b-3bec-4c8f-8acf-72d857d60e7d",
   "metadata": {},
   "source": [
    "# Estimation de la profondeur des téléséismes par apprentissage automatique à partir de signaux synthétiques\n",
    "\n",
    "<div style=\"text-align: justify;\">\n",
    "La caractérisation de la profondeur d'un évènement sismique est un sujet important parmis les études menées sur les tremblements de terre : cela peut-être un critère de discrimination entre plusieurs types d'évènements (Laporte, 2022), ou encore simplement apporter des informations sur la nature géologique d'une zone d'étude. La densification et le renforcement de la couverture azimutale des réseaux sismologiques durant les dernières décennies permettent à présent d’optimiser la récupération pour un évènement de l’énergie des phases dites « de profondeur » (phases pP et sP), parfois détectables seulement dans certains azimuts. Ces phases permettent de déduire la profondeur de la source d’un évènement à distance télésismique (de 3000 à 10 000 km).\n",
    "</div>\n",
    "\n",
    "</br>\n",
    "\n",
    "<div style=\"text-align: justify;\">\n",
    "Des méthodes récentes (p.ex. Blackwell et al, 2024) se portent sur une sommation de nombreux signaux télésismiques afin de maximiser l’énergie de ces phases par rapport au bruit, puis sur une double migration en profondeur selon les hypothèses pP et sP, permettant de co-valider les résultat obtenus. L'objectif de ce projet est d'estimer la profondeur de téléséismes directement à partir des signaux, ou plus particulièrement à partir d'une matrice correspondant à l'enveloppe énergétique de ces signaux (v. Figure 1), sans passer par cette étape de migration en profondeur qui peut être un peu lourde en calculs, en développant un modèle d'apprentissage automatique. Par manque de données facilement exploitables, le modèle a été entraîné sur des données synthétiques dont la génération est décrite ci-après.\n",
    "</div>\n",
    "\n",
    "<figure>\n",
    "    <img src=\"notebook_images/real_energetic_envelope.png\" style=\"width: 750px; display: block; margin: auto;\" alt=\"Exemple des enveloppes énergétiques pour un évènement réel\">\n",
    "    <figcaption style=\"text-align: center;\">Figure 1 : Enveloppes énergétiques pour un évènement sismique de magnitude 5 le 24 mai 2024 en Russie.</figcaption>\n",
    "</figure>\n",
    "\n"
   ]
  },
  {
   "cell_type": "markdown",
   "id": "5ee58438-a816-45d0-976c-68897dd17ba3",
   "metadata": {},
   "source": [
    "## Génération des synthétiques\n",
    "\n",
    "<div style=\"text-align: justify;\">\n",
    "Il s'agit de générer, pour un évènement aléatoire d'une profondeur maximale de 100 km, les signaux captés en 50 stations à distance télésismique, choisies aléatoirement également. Le modèle convolutif sera ensuite entraîné à partir de ces données pour plusieurs évènements. Les modules nécessaires pour la génération des signaux sont math, andom, obspy, numpy, matplotlib, scipy, ainsi que pytorch pour la génération des matrices sous forme de tenseurs compatibles pour l'entraînement du modèle.\n",
    "</div>"
   ]
  },
  {
   "cell_type": "markdown",
   "id": "fc035145-65d0-4c4c-9e6a-74e05a50edec",
   "metadata": {},
   "source": [
    "#### Générer un signal unique\n",
    "\n",
    "<div style=\"text-align: justify;\">\n",
    "On utilise le modèle de Terre 1D simplifié ak135 (Kennett, 2005) disponible dans TauP pour calculer les temps de trajets -- et donc les arrivées -- des ondes P, pP et sP à partir de coordonnées aléatoires pour la source (latitude, longitude, profondeur) et les stations (latitude et longitude, obligatoirement à distance télésismique par rapport à la source).\n",
    "</div>\n",
    "\n",
    "</br>\n",
    "\n",
    "<div style=\"text-align: justify;\">\n",
    "Ensuite, on génère un signal de 60 s pour chacune de ces stations à partir des délais entre les arrivées des différentes phases, en plaçant un dirac pour chaque arrivée. Pour augmenter le réalisme du signal, la décroissance énergétique exponentielle des phases est simulée par l'ajout de diracs à intervalle régulier, d'amplitude de moins en moins importante. L'amplitude des phases est aléatoire (entre 0.5 et 1 pour la phase P, et de 0 à 110% de la phase P pour chacune des phases de profondeur), ainsi que leur signe original (qui peut également basculer), dans le but de simuler la radiation à la source. La génération des signaux est largement améliorable pour rendre les synthétiques plus réalistes, en particulier sur la manière de simuler la radiation à la source et la propagation des signaux.\n",
    "</div>\n",
    "\n",
    "</br>\n",
    "\n",
    "<div style=\"text-align: justify;\">\n",
    "Ces signaux discrets sont ensuite convolués avec une ondelette de Ricker afin de générer un signal continu, auquel on ajoute du bruit blanc - avec un ratio signal sur bruit aléatoire compris entre 2 et 5 - avant de le filtrer entre 0.8 et 2.5 Hz (Laporte, 2022). Ce signal est enfin normalisé par Z-score avant d'en extraire l'enveloppe de Hilbert absolue, qui est elle-même normalisée par le maximum. On peut ici normaliser les signaux puisqu'on ne s'intéresse qu'à leur forme, afin de mettre en évidence les phases de profondeur. Les signaux sont ensuite décimés à 20 Hz, largement au-dessus de la fréquence de Nyquist ($ f_{\\text{N}} = $ 5 Hz).\n",
    "</div>"
   ]
  },
  {
   "cell_type": "code",
   "execution_count": null,
   "id": "7aeadea3-e119-49c8-a211-3f750f75343e",
   "metadata": {},
   "outputs": [],
   "source": [
    "signal, source, stations = gen.signal.generate_one_signal(plot=True)"
   ]
  },
  {
   "cell_type": "markdown",
   "id": "b86006fa-bd55-4d54-8138-93847cff827f",
   "metadata": {},
   "source": [
    "#### Générer une matrice unique"
   ]
  },
  {
   "cell_type": "markdown",
   "id": "1dbfef56-a1fe-4cb3-9427-91c45b9e319c",
   "metadata": {},
   "source": [
    "<div style=\"text-align: justify;\">\n",
    "L'étape de génération du signal est répétée 50 fois afin de générer une matrice de dimensions (50, 1200) pour un même évènement. La profondeur est gardée en mémoire pour le calcul du misfit lors de l'entraînement, ainsi que les distances des stations à l'épicentre - pour éventuellement fournir plus d'informations au modèle.\n",
    "</div>"
   ]
  },
  {
   "cell_type": "code",
   "execution_count": null,
   "id": "a9f9ee4d-3a3d-443a-9c0a-bd96c2aa5dca",
   "metadata": {},
   "outputs": [],
   "source": [
    "signal_matrix, depth, distances = gen.matrix.generate_matrix(num_stations=50, plot=True)"
   ]
  },
  {
   "cell_type": "markdown",
   "id": "c7d4b315-a5e7-424f-b04a-b220ff06b83a",
   "metadata": {},
   "source": [
    "## Entraînement du modèle d'apprentissage automatique"
   ]
  },
  {
   "cell_type": "markdown",
   "id": "bac68a9f-b39c-4c74-afe6-84c283c13a66",
   "metadata": {},
   "source": [
    "#### Etape d'entraînement"
   ]
  },
  {
   "cell_type": "code",
   "execution_count": null,
   "id": "6f55e120-8a2e-48a8-a6ce-c6cb592a37f9",
   "metadata": {},
   "outputs": [],
   "source": [
    "model_name, train_losses, val_losses, test_loss = gen.depth_model.train_DepthModel(model_name=\"Final_Model\",\n",
    "                                                                                   batch_size=256,\n",
    "                                                                                   num_stations=50,\n",
    "                                                                                   epochs=200,\n",
    "                                                                                   include_distance=True,\n",
    "                                                                                   plot=True\n",
    "                                                                                  )"
   ]
  },
  {
   "cell_type": "markdown",
   "id": "2947ab82-dc8c-45c3-a955-8f014894abd9",
   "metadata": {},
   "source": [
    "#### Résultats du modèle"
   ]
  },
  {
   "cell_type": "code",
   "execution_count": null,
   "id": "46e6be6d-4b13-4497-96b8-eab05dd2c05b",
   "metadata": {},
   "outputs": [],
   "source": [
    "real_depth, predicted_depth, delta_depth = gen.depth_model.test_DepthModel(model_name=\"Final_Model\",\n",
    "                                                                           num_test=1000,\n",
    "                                                                           num_stations=50,\n",
    "                                                                           include_distance=True\n",
    "                                                                          )"
   ]
  },
  {
   "cell_type": "markdown",
   "id": "44a4d792-dbf0-47b2-a2de-39e7a8fd69a4",
   "metadata": {},
   "source": [
    "#### Utiliser un modèle existant"
   ]
  },
  {
   "cell_type": "code",
   "execution_count": null,
   "id": "55199019-9a58-4e99-9a2d-d4bb8b60add1",
   "metadata": {},
   "outputs": [],
   "source": [
    "depth = [50*1e3]  # Depths in meters\n",
    "delta_depth = gen.depth_model.run_random_DepthModel(model_name=\"Final_Model\",\n",
    "                                             device_name=\"cuda\",\n",
    "                                             num_stations=50,\n",
    "                                             include_distance=True,\n",
    "                                             depth_list=depth,\n",
    "                                             plot=True\n",
    "                                            )"
   ]
  }
 ],
 "metadata": {
  "kernelspec": {
   "display_name": "Python 3 (ipykernel)",
   "language": "python",
   "name": "python3"
  },
  "language_info": {
   "codemirror_mode": {
    "name": "ipython",
    "version": 3
   },
   "file_extension": ".py",
   "mimetype": "text/x-python",
   "name": "python",
   "nbconvert_exporter": "python",
   "pygments_lexer": "ipython3",
   "version": "3.8.18"
  }
 },
 "nbformat": 4,
 "nbformat_minor": 5
}
