{
 "cells": [
  {
   "cell_type": "code",
   "execution_count": null,
   "id": "1bd52004-3016-4b75-b490-c679842330ba",
   "metadata": {},
   "outputs": [],
   "source": [
    "import numpy as np\n",
    "import matplotlib.pyplot as plt\n",
    "import data_generation as gen\n",
    "import torch"
   ]
  },
  {
   "cell_type": "markdown",
   "id": "5ee58438-a816-45d0-976c-68897dd17ba3",
   "metadata": {},
   "source": [
    "## Synthetics generation"
   ]
  },
  {
   "cell_type": "code",
   "execution_count": null,
   "id": "7aeadea3-e119-49c8-a211-3f750f75343e",
   "metadata": {},
   "outputs": [],
   "source": [
    "signal, source, stations = gen.signal.generate_one_signal(plot=True)"
   ]
  },
  {
   "cell_type": "markdown",
   "id": "b50f4e2e-62f7-4465-a0b5-8bee55a5ef46",
   "metadata": {},
   "source": [
    "#### TauP comparison"
   ]
  },
  {
   "cell_type": "code",
   "execution_count": null,
   "id": "4d4d402b-825b-413e-a039-6e14223e95ad",
   "metadata": {},
   "outputs": [],
   "source": [
    "# Source characteristics\n",
    "source_lat = source[0]\n",
    "source_lon = source[1]\n",
    "source_depth = source[2]\n",
    "print(f'Depth : {source_depth/1e3:.3f} km')\n",
    "\n",
    "# Station position\n",
    "station_lat = stations[0][0]\n",
    "station_lon = stations[0][1]"
   ]
  },
  {
   "cell_type": "code",
   "execution_count": null,
   "id": "e75f8d26-2737-4355-8c1c-2293561c1bd9",
   "metadata": {},
   "outputs": [],
   "source": [
    "# My solution\n",
    "P, pP, sP = gen.arrival_time.travel_times(source_lat, source_lon, source_depth, station_lat, station_lon)\n",
    "tpP = pP - P\n",
    "tsP = sP - P\n",
    "\n",
    "# Results\n",
    "print(f'P-pP: {tpP:.3f}s - P-sP: {tsP:.3f}s')"
   ]
  },
  {
   "cell_type": "code",
   "execution_count": null,
   "id": "8f60bd88-d696-4173-a3da-1e3664bd5a0c",
   "metadata": {},
   "outputs": [],
   "source": [
    "# TauP solution\n",
    "from obspy.taup import TauPyModel\n",
    "from obspy.geodetics import locations2degrees\n",
    "\n",
    "# Kenett model AK135\n",
    "model = TauPyModel(model=\"ak135\")\n",
    "\n",
    "distance_deg = locations2degrees(lat1=source_lat, long1=source_lon,\n",
    "                                  lat2=station_lat, long2=station_lon)\n",
    "\n",
    "arrivals = model.get_travel_times(source_depth_in_km=source_depth/1e3,\n",
    "                                  distance_in_degree=distance_deg,\n",
    "                                  phase_list=[\"P\", \"pP\", \"sP\"])\n",
    "\n",
    "# Results\n",
    "tpP = arrivals[1].time - arrivals[0].time\n",
    "tsP = arrivals[2].time - arrivals[0].time\n",
    "\n",
    "print(f'P-pP: {tpP:.3f}s - P-sP: {tsP:.3f}s')"
   ]
  },
  {
   "cell_type": "markdown",
   "id": "b86006fa-bd55-4d54-8138-93847cff827f",
   "metadata": {},
   "source": [
    "#### Generate matrix and plot"
   ]
  },
  {
   "cell_type": "code",
   "execution_count": null,
   "id": "a9f9ee4d-3a3d-443a-9c0a-bd96c2aa5dca",
   "metadata": {},
   "outputs": [],
   "source": [
    "signal_matrix, depth, _ = gen.matrix.generate_matrix()\n",
    "\n",
    "# Plot\n",
    "plt.figure(figsize=(10,7))\n",
    "plt.imshow(signal_matrix, aspect='auto', cmap='viridis', origin='upper')\n",
    "\n",
    "# Adjust x-axis to represent time in seconds\n",
    "num_columns = len(signal_matrix[0])  # Number of columns in the matrix\n",
    "plt.xticks(\n",
    "    ticks=np.arange(0, num_columns, step=1000),  # Adjust step size as needed\n",
    "    labels=np.arange(0, num_columns / 100, step=1000 / 100)  # Convert to seconds (1/100 of a second since 100 Hz sampling)\n",
    ")\n",
    "\n",
    "#plt.colorbar(label='Amplitude')\n",
    "plt.xlabel('Time (s)')\n",
    "plt.ylabel('Signals (organized by distance)')\n",
    "plt.title(f'Energetic envelope of the Z-normalized signals aligned with P-arrival \\nDepth : {depth/1e3:.1f} km', fontweight='bold')\n",
    "plt.tight_layout()\n",
    "plt.show()"
   ]
  },
  {
   "cell_type": "markdown",
   "id": "c7d4b315-a5e7-424f-b04a-b220ff06b83a",
   "metadata": {},
   "source": [
    "## CNN-DNN model"
   ]
  },
  {
   "cell_type": "markdown",
   "id": "bac68a9f-b39c-4c74-afe6-84c283c13a66",
   "metadata": {},
   "source": [
    "#### Train a new model"
   ]
  },
  {
   "cell_type": "code",
   "execution_count": null,
   "id": "6f55e120-8a2e-48a8-a6ce-c6cb592a37f9",
   "metadata": {},
   "outputs": [],
   "source": [
    "gen.depth_model.train_DepthModel(model_name=\"org\", batch_size=64, num_stations=50, epochs=100, include_distance=True);"
   ]
  },
  {
   "cell_type": "markdown",
   "id": "44a4d792-dbf0-47b2-a2de-39e7a8fd69a4",
   "metadata": {},
   "source": [
    "#### Use an already existing model"
   ]
  },
  {
   "cell_type": "code",
   "execution_count": null,
   "id": "55199019-9a58-4e99-9a2d-d4bb8b60add1",
   "metadata": {},
   "outputs": [],
   "source": [
    "depth = [5e4]  # Depths in meters\n",
    "delta_depth = gen.depth_model.run_DepthModel(model_name=\"cuda_DepthModel_org.pth\", num_stations=50, include_distance=True, depth_list=depth, plot=True, save_plot=True)"
   ]
  },
  {
   "cell_type": "code",
   "execution_count": null,
   "id": "fe14c095-3424-4631-89c7-b048ae30a15e",
   "metadata": {},
   "outputs": [],
   "source": []
  }
 ],
 "metadata": {
  "kernelspec": {
   "display_name": "Python 3 (ipykernel)",
   "language": "python",
   "name": "python3"
  },
  "language_info": {
   "codemirror_mode": {
    "name": "ipython",
    "version": 3
   },
   "file_extension": ".py",
   "mimetype": "text/x-python",
   "name": "python",
   "nbconvert_exporter": "python",
   "pygments_lexer": "ipython3",
   "version": "3.10.15"
  }
 },
 "nbformat": 4,
 "nbformat_minor": 5
}
