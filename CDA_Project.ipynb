{
 "cells": [
  {
   "cell_type": "code",
   "execution_count": 1,
   "id": "1bd52004-3016-4b75-b490-c679842330ba",
   "metadata": {
    "execution": {
     "iopub.execute_input": "2024-11-29T22:55:06.329964Z",
     "iopub.status.busy": "2024-11-29T22:55:06.329964Z",
     "iopub.status.idle": "2024-11-29T22:55:09.747054Z",
     "shell.execute_reply": "2024-11-29T22:55:09.746055Z",
     "shell.execute_reply.started": "2024-11-29T22:55:06.329964Z"
    }
   },
   "outputs": [],
   "source": [
    "import numpy as np\n",
    "import matplotlib.pyplot as plt\n",
    "import data_generation as gen\n",
    "import torch"
   ]
  },
  {
   "cell_type": "markdown",
   "id": "5ee58438-a816-45d0-976c-68897dd17ba3",
   "metadata": {},
   "source": [
    "## Synthetics generation"
   ]
  },
  {
   "cell_type": "code",
   "execution_count": null,
   "id": "7aeadea3-e119-49c8-a211-3f750f75343e",
   "metadata": {},
   "outputs": [],
   "source": [
    "signal, source, stations = gen.signal.generate_one_signal(plot=True)"
   ]
  },
  {
   "cell_type": "markdown",
   "id": "b50f4e2e-62f7-4465-a0b5-8bee55a5ef46",
   "metadata": {},
   "source": [
    "#### TauP comparison"
   ]
  },
  {
   "cell_type": "code",
   "execution_count": null,
   "id": "4d4d402b-825b-413e-a039-6e14223e95ad",
   "metadata": {},
   "outputs": [],
   "source": [
    "# Source characteristics\n",
    "source_lat = source[0]\n",
    "source_lon = source[1]\n",
    "source_depth = source[2]\n",
    "print(f'Depth : {source_depth/1e3:.3f} km')\n",
    "\n",
    "# Station position\n",
    "station_lat = stations[0][0]\n",
    "station_lon = stations[0][1]"
   ]
  },
  {
   "cell_type": "code",
   "execution_count": null,
   "id": "e75f8d26-2737-4355-8c1c-2293561c1bd9",
   "metadata": {},
   "outputs": [],
   "source": [
    "# My solution\n",
    "P, pP, sP = gen.arrival_time.travel_times(source_lat, source_lon, source_depth, station_lat, station_lon)\n",
    "tpP = pP - P\n",
    "tsP = sP - P\n",
    "\n",
    "# Results\n",
    "print(f'P-pP: {tpP:.3f}s - P-sP: {tsP:.3f}s')"
   ]
  },
  {
   "cell_type": "code",
   "execution_count": null,
   "id": "8f60bd88-d696-4173-a3da-1e3664bd5a0c",
   "metadata": {},
   "outputs": [],
   "source": [
    "# TauP solution\n",
    "from obspy.taup import TauPyModel\n",
    "from obspy.geodetics import locations2degrees\n",
    "\n",
    "# Kenett model AK135\n",
    "model = TauPyModel(model=\"ak135\")\n",
    "\n",
    "distance_deg = locations2degrees(lat1=source_lat, long1=source_lon,\n",
    "                                  lat2=station_lat, long2=station_lon)\n",
    "\n",
    "arrivals = model.get_travel_times(source_depth_in_km=source_depth/1e3,\n",
    "                                  distance_in_degree=distance_deg,\n",
    "                                  phase_list=[\"P\", \"pP\", \"sP\"])\n",
    "\n",
    "# Results\n",
    "tpP = arrivals[1].time - arrivals[0].time\n",
    "tsP = arrivals[2].time - arrivals[0].time\n",
    "\n",
    "print(f'P-pP: {tpP:.3f}s - P-sP: {tsP:.3f}s')"
   ]
  },
  {
   "cell_type": "markdown",
   "id": "b86006fa-bd55-4d54-8138-93847cff827f",
   "metadata": {},
   "source": [
    "#### Generate matrix and plot"
   ]
  },
  {
   "cell_type": "code",
   "execution_count": null,
   "id": "a9f9ee4d-3a3d-443a-9c0a-bd96c2aa5dca",
   "metadata": {},
   "outputs": [],
   "source": [
    "signal_matrix, depth, _ = gen.matrix.generate_matrix()\n",
    "\n",
    "# Plot\n",
    "plt.figure(figsize=(10,7))\n",
    "plt.imshow(signal_matrix, aspect='auto', cmap='viridis', origin='upper')\n",
    "\n",
    "# Adjust x-axis to represent time in seconds\n",
    "num_columns = len(signal_matrix[0])  # Number of columns in the matrix\n",
    "plt.xticks(\n",
    "    ticks=np.arange(0, num_columns, step=1000),  # Adjust step size as needed\n",
    "    labels=np.arange(0, num_columns / 100, step=1000 / 100)  # Convert to seconds (1/100 of a second since 100 Hz sampling)\n",
    ")\n",
    "\n",
    "#plt.colorbar(label='Amplitude')\n",
    "plt.xlabel('Time (s)')\n",
    "plt.ylabel('Signals (organized by distance)')\n",
    "plt.title(f'Energetic envelope of the Z-normalized signals aligned with P-arrival \\nDepth : {depth/1e3:.1f} km', fontweight='bold')\n",
    "plt.tight_layout()\n",
    "plt.show()"
   ]
  },
  {
   "cell_type": "markdown",
   "id": "c7d4b315-a5e7-424f-b04a-b220ff06b83a",
   "metadata": {},
   "source": [
    "## CNN-DNN model"
   ]
  },
  {
   "cell_type": "markdown",
   "id": "bac68a9f-b39c-4c74-afe6-84c283c13a66",
   "metadata": {},
   "source": [
    "#### Train a new model"
   ]
  },
  {
   "cell_type": "code",
   "execution_count": 3,
   "id": "6f55e120-8a2e-48a8-a6ce-c6cb592a37f9",
   "metadata": {
    "execution": {
     "iopub.execute_input": "2024-11-29T22:56:24.849767Z",
     "iopub.status.busy": "2024-11-29T22:56:24.848766Z",
     "iopub.status.idle": "2024-11-29T22:58:03.806941Z",
     "shell.execute_reply": "2024-11-29T22:58:03.805941Z",
     "shell.execute_reply.started": "2024-11-29T22:56:24.849767Z"
    }
   },
   "outputs": [
    {
     "name": "stdout",
     "output_type": "stream",
     "text": [
      "Succesfully generated train dataset.\n",
      "Succesfully generated test dataset.\n",
      "Succesfully initialized model using cuda.\n",
      "Succesfully set loss criterion and optimizer.\n",
      "Epoch 1/100, Mean Loss: 3736287488.0000\n",
      "Epoch 2/100, Mean Loss: 3734830336.0000\n",
      "Epoch 3/100, Mean Loss: 3729390336.0000\n",
      "Epoch 4/100, Mean Loss: 3717435392.0000\n",
      "Epoch 5/100, Mean Loss: 3695640320.0000\n",
      "Epoch 6/100, Mean Loss: 3662060544.0000\n",
      "Epoch 7/100, Mean Loss: 3602385920.0000\n",
      "Epoch 8/100, Mean Loss: 3511207424.0000\n",
      "Epoch 9/100, Mean Loss: 3379159552.0000\n",
      "Epoch 10/100, Mean Loss: 3195750144.0000\n",
      "Epoch 11/100, Mean Loss: 2934835712.0000\n",
      "Epoch 12/100, Mean Loss: 2567096832.0000\n",
      "Epoch 13/100, Mean Loss: 2203115520.0000\n",
      "Epoch 14/100, Mean Loss: 1639604736.0000\n",
      "Epoch 15/100, Mean Loss: 1277718016.0000\n",
      "Epoch 16/100, Mean Loss: 806588160.0000\n",
      "Epoch 17/100, Mean Loss: 824774784.0000\n",
      "Epoch 18/100, Mean Loss: 1130919296.0000\n",
      "Epoch 19/100, Mean Loss: 1100984192.0000\n",
      "Epoch 20/100, Mean Loss: 875790656.0000\n",
      "Epoch 21/100, Mean Loss: 596201600.0000\n",
      "Epoch 22/100, Mean Loss: 462889248.0000\n",
      "Epoch 23/100, Mean Loss: 446587648.0000\n",
      "Epoch 24/100, Mean Loss: 537286272.0000\n",
      "Epoch 25/100, Mean Loss: 476051552.0000\n",
      "Epoch 26/100, Mean Loss: 450243712.0000\n",
      "Epoch 27/100, Mean Loss: 369358720.0000\n",
      "Epoch 28/100, Mean Loss: 383211520.0000\n",
      "Epoch 29/100, Mean Loss: 239117088.0000\n",
      "Epoch 30/100, Mean Loss: 186216480.0000\n",
      "Epoch 31/100, Mean Loss: 235656288.0000\n",
      "Epoch 32/100, Mean Loss: 235375552.0000\n",
      "Epoch 33/100, Mean Loss: 218404704.0000\n",
      "Epoch 34/100, Mean Loss: 184854208.0000\n",
      "Epoch 35/100, Mean Loss: 155898208.0000\n",
      "Epoch 36/100, Mean Loss: 165801840.0000\n",
      "Epoch 37/100, Mean Loss: 118573640.0000\n",
      "Epoch 38/100, Mean Loss: 100785328.0000\n",
      "Epoch 39/100, Mean Loss: 117583040.0000\n",
      "Epoch 40/100, Mean Loss: 118589160.0000\n",
      "Epoch 41/100, Mean Loss: 111703208.0000\n",
      "Epoch 42/100, Mean Loss: 129393424.0000\n",
      "Epoch 43/100, Mean Loss: 84120696.0000\n",
      "Epoch 44/100, Mean Loss: 111642176.0000\n",
      "Epoch 45/100, Mean Loss: 105102944.0000\n",
      "Epoch 46/100, Mean Loss: 116839344.0000\n",
      "Epoch 47/100, Mean Loss: 124210024.0000\n",
      "Epoch 48/100, Mean Loss: 104821600.0000\n",
      "Epoch 49/100, Mean Loss: 94157568.0000\n",
      "Epoch 50/100, Mean Loss: 130872240.0000\n",
      "Epoch 51/100, Mean Loss: 112904104.0000\n",
      "Epoch 52/100, Mean Loss: 92322880.0000\n",
      "Epoch 53/100, Mean Loss: 80811024.0000\n",
      "Epoch 54/100, Mean Loss: 94240864.0000\n",
      "Epoch 55/100, Mean Loss: 94886600.0000\n",
      "Epoch 56/100, Mean Loss: 97484888.0000\n",
      "Epoch 57/100, Mean Loss: 68967584.0000\n",
      "Epoch 58/100, Mean Loss: 95336872.0000\n",
      "Epoch 59/100, Mean Loss: 76479952.0000\n",
      "Epoch 60/100, Mean Loss: 67089816.0000\n",
      "Epoch 61/100, Mean Loss: 44939976.0000\n",
      "Epoch 62/100, Mean Loss: 95906880.0000\n",
      "Epoch 63/100, Mean Loss: 79946600.0000\n",
      "Epoch 64/100, Mean Loss: 114889800.0000\n",
      "Epoch 65/100, Mean Loss: 99271216.0000\n",
      "Epoch 66/100, Mean Loss: 88713120.0000\n",
      "Epoch 67/100, Mean Loss: 70658160.0000\n",
      "Epoch 68/100, Mean Loss: 113673712.0000\n",
      "Epoch 69/100, Mean Loss: 91572368.0000\n",
      "Epoch 70/100, Mean Loss: 81155816.0000\n",
      "Epoch 71/100, Mean Loss: 90922600.0000\n",
      "Epoch 72/100, Mean Loss: 98638736.0000\n",
      "Epoch 73/100, Mean Loss: 56176760.0000\n",
      "Epoch 74/100, Mean Loss: 67400488.0000\n",
      "Epoch 75/100, Mean Loss: 56442896.0000\n",
      "Epoch 76/100, Mean Loss: 64134252.0000\n",
      "Epoch 77/100, Mean Loss: 73037136.0000\n",
      "Epoch 78/100, Mean Loss: 153227872.0000\n",
      "Epoch 79/100, Mean Loss: 68444328.0000\n",
      "Epoch 80/100, Mean Loss: 68731816.0000\n",
      "Epoch 81/100, Mean Loss: 62984264.0000\n",
      "Epoch 82/100, Mean Loss: 59089216.0000\n",
      "Epoch 83/100, Mean Loss: 41462948.0000\n",
      "Epoch 84/100, Mean Loss: 84300096.0000\n",
      "Epoch 85/100, Mean Loss: 43641512.0000\n",
      "Epoch 86/100, Mean Loss: 74593552.0000\n",
      "Epoch 87/100, Mean Loss: 111171776.0000\n",
      "Epoch 88/100, Mean Loss: 73969520.0000\n",
      "Epoch 89/100, Mean Loss: 59117464.0000\n",
      "Epoch 90/100, Mean Loss: 73647760.0000\n",
      "Epoch 91/100, Mean Loss: 62743580.0000\n",
      "Epoch 92/100, Mean Loss: 89524352.0000\n",
      "Epoch 93/100, Mean Loss: 56144432.0000\n",
      "Epoch 94/100, Mean Loss: 63122776.0000\n",
      "Epoch 95/100, Mean Loss: 65434868.0000\n",
      "Epoch 96/100, Mean Loss: 70994104.0000\n",
      "Epoch 97/100, Mean Loss: 59574828.0000\n",
      "Epoch 98/100, Mean Loss: 61415548.0000\n",
      "Epoch 99/100, Mean Loss: 74749936.0000\n",
      "Epoch 100/100, Mean Loss: 74591328.0000\n",
      "Succesfull training.\n",
      "\n",
      " \n",
      " \n",
      "\n",
      "Mean Test Loss: 22552064.0000\n",
      "Succesfull test.\n",
      "Succesfull saved model as cuda_DepthModel_org.pth.\n"
     ]
    }
   ],
   "source": [
    "gen.depth_model.train_DepthModel(model_name=\"org\", batch_size=64, num_stations=50, epochs=100, include_distance=True);"
   ]
  },
  {
   "cell_type": "markdown",
   "id": "44a4d792-dbf0-47b2-a2de-39e7a8fd69a4",
   "metadata": {},
   "source": [
    "#### Use an already existing model"
   ]
  },
  {
   "cell_type": "code",
   "execution_count": null,
   "id": "55199019-9a58-4e99-9a2d-d4bb8b60add1",
   "metadata": {},
   "outputs": [],
   "source": [
    "depth = [5e4]  # Depths in meters\n",
    "delta_depth = gen.depth_model.run_DepthModel(model_name=\"cuda_DepthModel_org.pth\", num_stations=50, include_distance=True, depth_list=depth, plot=True)"
   ]
  }
 ],
 "metadata": {
  "kernelspec": {
   "display_name": "Python 3 (ipykernel)",
   "language": "python",
   "name": "python3"
  },
  "language_info": {
   "codemirror_mode": {
    "name": "ipython",
    "version": 3
   },
   "file_extension": ".py",
   "mimetype": "text/x-python",
   "name": "python",
   "nbconvert_exporter": "python",
   "pygments_lexer": "ipython3",
   "version": "3.10.15"
  }
 },
 "nbformat": 4,
 "nbformat_minor": 5
}
